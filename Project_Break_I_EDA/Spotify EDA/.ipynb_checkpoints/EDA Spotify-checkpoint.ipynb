{
 "cells": [
  {
   "cell_type": "markdown",
   "id": "0623cd68-b7b3-4b85-8619-818f52ea331f",
   "metadata": {},
   "source": [
    "*EDA Spotify"
   ]
  },
  {
   "cell_type": "code",
   "execution_count": null,
   "id": "ad0a5149-b708-4acb-8066-248f7eccda09",
   "metadata": {},
   "outputs": [],
   "source": []
  }
 ],
 "metadata": {
  "kernelspec": {
   "display_name": "Python 3 (ipykernel)",
   "language": "python",
   "name": "python3"
  },
  "language_info": {
   "codemirror_mode": {
    "name": "ipython",
    "version": 3
   },
   "file_extension": ".py",
   "mimetype": "text/x-python",
   "name": "python",
   "nbconvert_exporter": "python",
   "pygments_lexer": "ipython3",
   "version": "3.13.0"
  }
 },
 "nbformat": 4,
 "nbformat_minor": 5
}
