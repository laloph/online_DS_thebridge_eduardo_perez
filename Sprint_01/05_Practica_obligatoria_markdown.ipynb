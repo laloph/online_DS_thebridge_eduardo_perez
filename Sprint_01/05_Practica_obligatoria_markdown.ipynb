{
 "cells": [
  {
   "cell_type": "markdown",
   "id": "97175fd5-f79b-4cd7-8187-dc0307464a1c",
   "metadata": {},
   "source": [
    "# Ejercicio 1"
   ]
  },
  {
   "cell_type": "markdown",
   "id": "9fbacfab-b87c-4e14-bee4-3b838909b661",
   "metadata": {},
   "source": [
    "### Lo más importante"
   ]
  },
  {
   "cell_type": "markdown",
   "id": "afc7ad41-1276-4d6d-91d2-2e8f0b7aab85",
   "metadata": {},
   "source": [
    "* Matemáticas\n",
    "* Python\n",
    "* SQL"
   ]
  },
  {
   "cell_type": "markdown",
   "id": "350a320f-a945-43b4-80c9-a4e5bfb0b484",
   "metadata": {},
   "source": [
    "![Logo](https://e7.pngegg.com/pngimages/621/411/png-clipart-computer-icons-python-anaconda-anaconda-angle-other-thumbnail.png)\n"
   ]
  },
  {
   "cell_type": "markdown",
   "id": "cc3c5beb-09ce-4465-8517-c89fa6b3bd31",
   "metadata": {},
   "source": [
    "Otro tema importante es del de *Business Intellingence*"
   ]
  },
  {
   "cell_type": "markdown",
   "id": "e34aae83-a668-4d66-a1d6-d297d9dff86d",
   "metadata": {},
   "source": [
    "Si tienes dudas, puedes escribirme a: [alberto.romero@thebridgeschool.es](mailto:alberto.romero@thebridgeschool.es)\n"
   ]
  },
  {
   "cell_type": "markdown",
   "id": "c842f913-7829-4725-8b82-6fe58630f014",
   "metadata": {},
   "source": [
    "Y en esta página se aprende mucho de machine learning : [página con ML](https://www.kaggle.com/)\n"
   ]
  },
  {
   "cell_type": "markdown",
   "id": "c9a14db0-6887-4a9c-a99f-2a65dc0fd96a",
   "metadata": {},
   "source": [
    "***"
   ]
  },
  {
   "cell_type": "markdown",
   "id": "ce61328e-33c6-4a3f-8121-47ef5908f22d",
   "metadata": {},
   "source": [
    "# Ejercicio 2"
   ]
  },
  {
   "cell_type": "markdown",
   "id": "3ebf5b05-9547-4da0-8a9a-a014e46e4b08",
   "metadata": {},
   "source": [
    "| Ramp Up     | Data Analysis | Machine Learning  | Data & Business    |\n",
    "|-------------|---------------|-------------------|--------------------|\n",
    "| Python      | EDA           | Supervised        | Productivización   |\n",
    "| Estadística | R             | Non supervised    | Storytelling       |\n",
    "| SQL         | Feat. Eng.    | Deep Learning     | API                |"
   ]
  },
  {
   "cell_type": "markdown",
   "id": "18c2aee4-5e3b-43bb-bb9e-bc6c9c8269e6",
   "metadata": {},
   "source": [
    "$$\n",
    "\\sqrt{3x - 1} + (1 + x)^2\n",
    "$$\n"
   ]
  },
  {
   "cell_type": "code",
   "execution_count": null,
   "id": "20b41f7b-ed62-404c-a160-1a9890b93744",
   "metadata": {},
   "outputs": [],
   "source": []
  }
 ],
 "metadata": {
  "kernelspec": {
   "display_name": "Python 3 (ipykernel)",
   "language": "python",
   "name": "python3"
  },
  "language_info": {
   "codemirror_mode": {
    "name": "ipython",
    "version": 3
   },
   "file_extension": ".py",
   "mimetype": "text/x-python",
   "name": "python",
   "nbconvert_exporter": "python",
   "pygments_lexer": "ipython3",
   "version": "3.13.0"
  }
 },
 "nbformat": 4,
 "nbformat_minor": 5
}
